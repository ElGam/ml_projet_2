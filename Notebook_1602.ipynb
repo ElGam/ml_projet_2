{
 "cells": [
  {
   "cell_type": "markdown",
   "id": "66d66dd2",
   "metadata": {},
   "source": [
    "# Projet 2 "
   ]
  },
  {
   "cell_type": "code",
   "execution_count": 1,
   "id": "06d8ce86",
   "metadata": {},
   "outputs": [],
   "source": [
    "import pandas as pd\n",
    "import numpy as np\n",
    "from sklearn.model_selection import train_test_split\n",
    "from sklearn.metrics import mean_squared_error, mean_absolute_percentage_error\n",
    "from sklearn.linear_model import LinearRegression\n",
    "from sklearn.experimental import enable_iterative_imputer\n",
    "from sklearn.impute import IterativeImputer"
   ]
  },
  {
   "cell_type": "markdown",
   "id": "6a91bffa",
   "metadata": {},
   "source": [
    "## Analyse des données"
   ]
  },
  {
   "cell_type": "markdown",
   "id": "0c6f3a3a",
   "metadata": {},
   "source": [
    "## Lecture du Dataset"
   ]
  },
  {
   "cell_type": "code",
   "execution_count": 2,
   "id": "dcd65f8c",
   "metadata": {},
   "outputs": [],
   "source": [
    "# Le dataset utilise des séparateur de type: tabulation\n",
    "df = pd.read_csv(\"products_full.csv\", sep=\"\\t\", low_memory=False)"
   ]
  },
  {
   "cell_type": "code",
   "execution_count": 3,
   "id": "61f6953b",
   "metadata": {},
   "outputs": [
    {
     "data": {
      "text/html": [
       "<div>\n",
       "<style scoped>\n",
       "    .dataframe tbody tr th:only-of-type {\n",
       "        vertical-align: middle;\n",
       "    }\n",
       "\n",
       "    .dataframe tbody tr th {\n",
       "        vertical-align: top;\n",
       "    }\n",
       "\n",
       "    .dataframe thead th {\n",
       "        text-align: right;\n",
       "    }\n",
       "</style>\n",
       "<table border=\"1\" class=\"dataframe\">\n",
       "  <thead>\n",
       "    <tr style=\"text-align: right;\">\n",
       "      <th></th>\n",
       "      <th>code</th>\n",
       "      <th>url</th>\n",
       "      <th>creator</th>\n",
       "      <th>created_t</th>\n",
       "      <th>created_datetime</th>\n",
       "      <th>last_modified_t</th>\n",
       "      <th>last_modified_datetime</th>\n",
       "      <th>product_name</th>\n",
       "      <th>generic_name</th>\n",
       "      <th>quantity</th>\n",
       "      <th>...</th>\n",
       "      <th>ph_100g</th>\n",
       "      <th>fruits-vegetables-nuts_100g</th>\n",
       "      <th>collagen-meat-protein-ratio_100g</th>\n",
       "      <th>cocoa_100g</th>\n",
       "      <th>chlorophyl_100g</th>\n",
       "      <th>carbon-footprint_100g</th>\n",
       "      <th>nutrition-score-fr_100g</th>\n",
       "      <th>nutrition-score-uk_100g</th>\n",
       "      <th>glycemic-index_100g</th>\n",
       "      <th>water-hardness_100g</th>\n",
       "    </tr>\n",
       "  </thead>\n",
       "  <tbody>\n",
       "    <tr>\n",
       "      <th>0</th>\n",
       "      <td>0000000003087</td>\n",
       "      <td>http://world-fr.openfoodfacts.org/produit/0000...</td>\n",
       "      <td>openfoodfacts-contributors</td>\n",
       "      <td>1474103866</td>\n",
       "      <td>2016-09-17T09:17:46Z</td>\n",
       "      <td>1474103893</td>\n",
       "      <td>2016-09-17T09:18:13Z</td>\n",
       "      <td>Farine de blé noir</td>\n",
       "      <td>NaN</td>\n",
       "      <td>1kg</td>\n",
       "      <td>...</td>\n",
       "      <td>NaN</td>\n",
       "      <td>NaN</td>\n",
       "      <td>NaN</td>\n",
       "      <td>NaN</td>\n",
       "      <td>NaN</td>\n",
       "      <td>NaN</td>\n",
       "      <td>NaN</td>\n",
       "      <td>NaN</td>\n",
       "      <td>NaN</td>\n",
       "      <td>NaN</td>\n",
       "    </tr>\n",
       "    <tr>\n",
       "      <th>1</th>\n",
       "      <td>0000000004530</td>\n",
       "      <td>http://world-fr.openfoodfacts.org/produit/0000...</td>\n",
       "      <td>usda-ndb-import</td>\n",
       "      <td>1489069957</td>\n",
       "      <td>2017-03-09T14:32:37Z</td>\n",
       "      <td>1489069957</td>\n",
       "      <td>2017-03-09T14:32:37Z</td>\n",
       "      <td>Banana Chips Sweetened (Whole)</td>\n",
       "      <td>NaN</td>\n",
       "      <td>NaN</td>\n",
       "      <td>...</td>\n",
       "      <td>NaN</td>\n",
       "      <td>NaN</td>\n",
       "      <td>NaN</td>\n",
       "      <td>NaN</td>\n",
       "      <td>NaN</td>\n",
       "      <td>NaN</td>\n",
       "      <td>14.0</td>\n",
       "      <td>14.0</td>\n",
       "      <td>NaN</td>\n",
       "      <td>NaN</td>\n",
       "    </tr>\n",
       "    <tr>\n",
       "      <th>2</th>\n",
       "      <td>0000000004559</td>\n",
       "      <td>http://world-fr.openfoodfacts.org/produit/0000...</td>\n",
       "      <td>usda-ndb-import</td>\n",
       "      <td>1489069957</td>\n",
       "      <td>2017-03-09T14:32:37Z</td>\n",
       "      <td>1489069957</td>\n",
       "      <td>2017-03-09T14:32:37Z</td>\n",
       "      <td>Peanuts</td>\n",
       "      <td>NaN</td>\n",
       "      <td>NaN</td>\n",
       "      <td>...</td>\n",
       "      <td>NaN</td>\n",
       "      <td>NaN</td>\n",
       "      <td>NaN</td>\n",
       "      <td>NaN</td>\n",
       "      <td>NaN</td>\n",
       "      <td>NaN</td>\n",
       "      <td>0.0</td>\n",
       "      <td>0.0</td>\n",
       "      <td>NaN</td>\n",
       "      <td>NaN</td>\n",
       "    </tr>\n",
       "    <tr>\n",
       "      <th>3</th>\n",
       "      <td>0000000016087</td>\n",
       "      <td>http://world-fr.openfoodfacts.org/produit/0000...</td>\n",
       "      <td>usda-ndb-import</td>\n",
       "      <td>1489055731</td>\n",
       "      <td>2017-03-09T10:35:31Z</td>\n",
       "      <td>1489055731</td>\n",
       "      <td>2017-03-09T10:35:31Z</td>\n",
       "      <td>Organic Salted Nut Mix</td>\n",
       "      <td>NaN</td>\n",
       "      <td>NaN</td>\n",
       "      <td>...</td>\n",
       "      <td>NaN</td>\n",
       "      <td>NaN</td>\n",
       "      <td>NaN</td>\n",
       "      <td>NaN</td>\n",
       "      <td>NaN</td>\n",
       "      <td>NaN</td>\n",
       "      <td>12.0</td>\n",
       "      <td>12.0</td>\n",
       "      <td>NaN</td>\n",
       "      <td>NaN</td>\n",
       "    </tr>\n",
       "    <tr>\n",
       "      <th>4</th>\n",
       "      <td>0000000016094</td>\n",
       "      <td>http://world-fr.openfoodfacts.org/produit/0000...</td>\n",
       "      <td>usda-ndb-import</td>\n",
       "      <td>1489055653</td>\n",
       "      <td>2017-03-09T10:34:13Z</td>\n",
       "      <td>1489055653</td>\n",
       "      <td>2017-03-09T10:34:13Z</td>\n",
       "      <td>Organic Polenta</td>\n",
       "      <td>NaN</td>\n",
       "      <td>NaN</td>\n",
       "      <td>...</td>\n",
       "      <td>NaN</td>\n",
       "      <td>NaN</td>\n",
       "      <td>NaN</td>\n",
       "      <td>NaN</td>\n",
       "      <td>NaN</td>\n",
       "      <td>NaN</td>\n",
       "      <td>NaN</td>\n",
       "      <td>NaN</td>\n",
       "      <td>NaN</td>\n",
       "      <td>NaN</td>\n",
       "    </tr>\n",
       "  </tbody>\n",
       "</table>\n",
       "<p>5 rows × 162 columns</p>\n",
       "</div>"
      ],
      "text/plain": [
       "            code                                                url  \\\n",
       "0  0000000003087  http://world-fr.openfoodfacts.org/produit/0000...   \n",
       "1  0000000004530  http://world-fr.openfoodfacts.org/produit/0000...   \n",
       "2  0000000004559  http://world-fr.openfoodfacts.org/produit/0000...   \n",
       "3  0000000016087  http://world-fr.openfoodfacts.org/produit/0000...   \n",
       "4  0000000016094  http://world-fr.openfoodfacts.org/produit/0000...   \n",
       "\n",
       "                      creator   created_t      created_datetime  \\\n",
       "0  openfoodfacts-contributors  1474103866  2016-09-17T09:17:46Z   \n",
       "1             usda-ndb-import  1489069957  2017-03-09T14:32:37Z   \n",
       "2             usda-ndb-import  1489069957  2017-03-09T14:32:37Z   \n",
       "3             usda-ndb-import  1489055731  2017-03-09T10:35:31Z   \n",
       "4             usda-ndb-import  1489055653  2017-03-09T10:34:13Z   \n",
       "\n",
       "  last_modified_t last_modified_datetime                    product_name  \\\n",
       "0      1474103893   2016-09-17T09:18:13Z              Farine de blé noir   \n",
       "1      1489069957   2017-03-09T14:32:37Z  Banana Chips Sweetened (Whole)   \n",
       "2      1489069957   2017-03-09T14:32:37Z                         Peanuts   \n",
       "3      1489055731   2017-03-09T10:35:31Z          Organic Salted Nut Mix   \n",
       "4      1489055653   2017-03-09T10:34:13Z                 Organic Polenta   \n",
       "\n",
       "  generic_name quantity  ... ph_100g fruits-vegetables-nuts_100g  \\\n",
       "0          NaN      1kg  ...     NaN                         NaN   \n",
       "1          NaN      NaN  ...     NaN                         NaN   \n",
       "2          NaN      NaN  ...     NaN                         NaN   \n",
       "3          NaN      NaN  ...     NaN                         NaN   \n",
       "4          NaN      NaN  ...     NaN                         NaN   \n",
       "\n",
       "  collagen-meat-protein-ratio_100g cocoa_100g chlorophyl_100g  \\\n",
       "0                              NaN        NaN             NaN   \n",
       "1                              NaN        NaN             NaN   \n",
       "2                              NaN        NaN             NaN   \n",
       "3                              NaN        NaN             NaN   \n",
       "4                              NaN        NaN             NaN   \n",
       "\n",
       "  carbon-footprint_100g nutrition-score-fr_100g nutrition-score-uk_100g  \\\n",
       "0                   NaN                     NaN                     NaN   \n",
       "1                   NaN                    14.0                    14.0   \n",
       "2                   NaN                     0.0                     0.0   \n",
       "3                   NaN                    12.0                    12.0   \n",
       "4                   NaN                     NaN                     NaN   \n",
       "\n",
       "  glycemic-index_100g water-hardness_100g  \n",
       "0                 NaN                 NaN  \n",
       "1                 NaN                 NaN  \n",
       "2                 NaN                 NaN  \n",
       "3                 NaN                 NaN  \n",
       "4                 NaN                 NaN  \n",
       "\n",
       "[5 rows x 162 columns]"
      ]
     },
     "execution_count": 3,
     "metadata": {},
     "output_type": "execute_result"
    }
   ],
   "source": [
    "#df.info()\n",
    "#df.describe()\n",
    "df.head()"
   ]
  },
  {
   "cell_type": "markdown",
   "id": "e5f89e3e",
   "metadata": {},
   "source": [
    "### Repérage des valeurs pertinentes"
   ]
  },
  {
   "cell_type": "code",
   "execution_count": 4,
   "id": "5beeb1cd",
   "metadata": {},
   "outputs": [
    {
     "data": {
      "text/plain": [
       "['code',\n",
       " 'url',\n",
       " 'creator',\n",
       " 'created_t',\n",
       " 'created_datetime',\n",
       " 'last_modified_t',\n",
       " 'last_modified_datetime',\n",
       " 'product_name',\n",
       " 'generic_name',\n",
       " 'quantity',\n",
       " 'packaging',\n",
       " 'packaging_tags',\n",
       " 'brands',\n",
       " 'brands_tags',\n",
       " 'categories',\n",
       " 'categories_tags',\n",
       " 'categories_fr',\n",
       " 'origins',\n",
       " 'origins_tags',\n",
       " 'manufacturing_places',\n",
       " 'manufacturing_places_tags',\n",
       " 'labels',\n",
       " 'labels_tags',\n",
       " 'labels_fr',\n",
       " 'emb_codes',\n",
       " 'emb_codes_tags',\n",
       " 'first_packaging_code_geo',\n",
       " 'cities',\n",
       " 'cities_tags',\n",
       " 'purchase_places',\n",
       " 'stores',\n",
       " 'countries',\n",
       " 'countries_tags',\n",
       " 'countries_fr',\n",
       " 'ingredients_text',\n",
       " 'allergens',\n",
       " 'allergens_fr',\n",
       " 'traces',\n",
       " 'traces_tags',\n",
       " 'traces_fr',\n",
       " 'serving_size',\n",
       " 'no_nutriments',\n",
       " 'additives_n',\n",
       " 'additives',\n",
       " 'additives_tags',\n",
       " 'additives_fr',\n",
       " 'ingredients_from_palm_oil_n',\n",
       " 'ingredients_from_palm_oil',\n",
       " 'ingredients_from_palm_oil_tags',\n",
       " 'ingredients_that_may_be_from_palm_oil_n',\n",
       " 'ingredients_that_may_be_from_palm_oil',\n",
       " 'ingredients_that_may_be_from_palm_oil_tags',\n",
       " 'nutrition_grade_uk',\n",
       " 'nutrition_grade_fr',\n",
       " 'pnns_groups_1',\n",
       " 'pnns_groups_2',\n",
       " 'states',\n",
       " 'states_tags',\n",
       " 'states_fr',\n",
       " 'main_category',\n",
       " 'main_category_fr',\n",
       " 'image_url',\n",
       " 'image_small_url',\n",
       " 'energy_100g',\n",
       " 'energy-from-fat_100g',\n",
       " 'fat_100g',\n",
       " 'saturated-fat_100g',\n",
       " 'butyric-acid_100g',\n",
       " 'caproic-acid_100g',\n",
       " 'caprylic-acid_100g',\n",
       " 'capric-acid_100g',\n",
       " 'lauric-acid_100g',\n",
       " 'myristic-acid_100g',\n",
       " 'palmitic-acid_100g',\n",
       " 'stearic-acid_100g',\n",
       " 'arachidic-acid_100g',\n",
       " 'behenic-acid_100g',\n",
       " 'lignoceric-acid_100g',\n",
       " 'cerotic-acid_100g',\n",
       " 'montanic-acid_100g',\n",
       " 'melissic-acid_100g',\n",
       " 'monounsaturated-fat_100g',\n",
       " 'polyunsaturated-fat_100g',\n",
       " 'omega-3-fat_100g',\n",
       " 'alpha-linolenic-acid_100g',\n",
       " 'eicosapentaenoic-acid_100g',\n",
       " 'docosahexaenoic-acid_100g',\n",
       " 'omega-6-fat_100g',\n",
       " 'linoleic-acid_100g',\n",
       " 'arachidonic-acid_100g',\n",
       " 'gamma-linolenic-acid_100g',\n",
       " 'dihomo-gamma-linolenic-acid_100g',\n",
       " 'omega-9-fat_100g',\n",
       " 'oleic-acid_100g',\n",
       " 'elaidic-acid_100g',\n",
       " 'gondoic-acid_100g',\n",
       " 'mead-acid_100g',\n",
       " 'erucic-acid_100g',\n",
       " 'nervonic-acid_100g',\n",
       " 'trans-fat_100g',\n",
       " 'cholesterol_100g',\n",
       " 'carbohydrates_100g',\n",
       " 'sugars_100g',\n",
       " 'sucrose_100g',\n",
       " 'glucose_100g',\n",
       " 'fructose_100g',\n",
       " 'lactose_100g',\n",
       " 'maltose_100g',\n",
       " 'maltodextrins_100g',\n",
       " 'starch_100g',\n",
       " 'polyols_100g',\n",
       " 'fiber_100g',\n",
       " 'proteins_100g',\n",
       " 'casein_100g',\n",
       " 'serum-proteins_100g',\n",
       " 'nucleotides_100g',\n",
       " 'salt_100g',\n",
       " 'sodium_100g',\n",
       " 'alcohol_100g',\n",
       " 'vitamin-a_100g',\n",
       " 'beta-carotene_100g',\n",
       " 'vitamin-d_100g',\n",
       " 'vitamin-e_100g',\n",
       " 'vitamin-k_100g',\n",
       " 'vitamin-c_100g',\n",
       " 'vitamin-b1_100g',\n",
       " 'vitamin-b2_100g',\n",
       " 'vitamin-pp_100g',\n",
       " 'vitamin-b6_100g',\n",
       " 'vitamin-b9_100g',\n",
       " 'folates_100g',\n",
       " 'vitamin-b12_100g',\n",
       " 'biotin_100g',\n",
       " 'pantothenic-acid_100g',\n",
       " 'silica_100g',\n",
       " 'bicarbonate_100g',\n",
       " 'potassium_100g',\n",
       " 'chloride_100g',\n",
       " 'calcium_100g',\n",
       " 'phosphorus_100g',\n",
       " 'iron_100g',\n",
       " 'magnesium_100g',\n",
       " 'zinc_100g',\n",
       " 'copper_100g',\n",
       " 'manganese_100g',\n",
       " 'fluoride_100g',\n",
       " 'selenium_100g',\n",
       " 'chromium_100g',\n",
       " 'molybdenum_100g',\n",
       " 'iodine_100g',\n",
       " 'caffeine_100g',\n",
       " 'taurine_100g',\n",
       " 'ph_100g',\n",
       " 'fruits-vegetables-nuts_100g',\n",
       " 'collagen-meat-protein-ratio_100g',\n",
       " 'cocoa_100g',\n",
       " 'chlorophyl_100g',\n",
       " 'carbon-footprint_100g',\n",
       " 'nutrition-score-fr_100g',\n",
       " 'nutrition-score-uk_100g',\n",
       " 'glycemic-index_100g',\n",
       " 'water-hardness_100g']"
      ]
     },
     "execution_count": 4,
     "metadata": {},
     "output_type": "execute_result"
    }
   ],
   "source": [
    "list(df.columns)"
   ]
  },
  {
   "cell_type": "code",
   "execution_count": 5,
   "id": "b0450efd",
   "metadata": {},
   "outputs": [
    {
     "data": {
      "text/html": [
       "<div>\n",
       "<style scoped>\n",
       "    .dataframe tbody tr th:only-of-type {\n",
       "        vertical-align: middle;\n",
       "    }\n",
       "\n",
       "    .dataframe tbody tr th {\n",
       "        vertical-align: top;\n",
       "    }\n",
       "\n",
       "    .dataframe thead th {\n",
       "        text-align: right;\n",
       "    }\n",
       "</style>\n",
       "<table border=\"1\" class=\"dataframe\">\n",
       "  <thead>\n",
       "    <tr style=\"text-align: right;\">\n",
       "      <th></th>\n",
       "      <th>nutrition_grade_fr</th>\n",
       "      <th>additives_n</th>\n",
       "      <th>ingredients_from_palm_oil_n</th>\n",
       "      <th>ingredients_that_may_be_from_palm_oil_n</th>\n",
       "      <th>energy_100g</th>\n",
       "      <th>fat_100g</th>\n",
       "      <th>saturated-fat_100g</th>\n",
       "      <th>carbohydrates_100g</th>\n",
       "      <th>sugars_100g</th>\n",
       "      <th>fiber_100g</th>\n",
       "      <th>proteins_100g</th>\n",
       "      <th>salt_100g</th>\n",
       "      <th>sodium_100g</th>\n",
       "      <th>calcium_100g</th>\n",
       "      <th>iron_100g</th>\n",
       "    </tr>\n",
       "  </thead>\n",
       "  <tbody>\n",
       "    <tr>\n",
       "      <th>0</th>\n",
       "      <td>NaN</td>\n",
       "      <td>NaN</td>\n",
       "      <td>NaN</td>\n",
       "      <td>NaN</td>\n",
       "      <td>NaN</td>\n",
       "      <td>NaN</td>\n",
       "      <td>NaN</td>\n",
       "      <td>NaN</td>\n",
       "      <td>NaN</td>\n",
       "      <td>NaN</td>\n",
       "      <td>NaN</td>\n",
       "      <td>NaN</td>\n",
       "      <td>NaN</td>\n",
       "      <td>NaN</td>\n",
       "      <td>NaN</td>\n",
       "    </tr>\n",
       "    <tr>\n",
       "      <th>1</th>\n",
       "      <td>d</td>\n",
       "      <td>0.0</td>\n",
       "      <td>0.0</td>\n",
       "      <td>0.0</td>\n",
       "      <td>2243.0</td>\n",
       "      <td>28.57</td>\n",
       "      <td>28.57</td>\n",
       "      <td>64.29</td>\n",
       "      <td>14.29</td>\n",
       "      <td>3.6</td>\n",
       "      <td>3.57</td>\n",
       "      <td>0.00000</td>\n",
       "      <td>0.000</td>\n",
       "      <td>0.000</td>\n",
       "      <td>0.00129</td>\n",
       "    </tr>\n",
       "    <tr>\n",
       "      <th>2</th>\n",
       "      <td>b</td>\n",
       "      <td>0.0</td>\n",
       "      <td>0.0</td>\n",
       "      <td>0.0</td>\n",
       "      <td>1941.0</td>\n",
       "      <td>17.86</td>\n",
       "      <td>0.00</td>\n",
       "      <td>60.71</td>\n",
       "      <td>17.86</td>\n",
       "      <td>7.1</td>\n",
       "      <td>17.86</td>\n",
       "      <td>0.63500</td>\n",
       "      <td>0.250</td>\n",
       "      <td>0.071</td>\n",
       "      <td>0.00129</td>\n",
       "    </tr>\n",
       "    <tr>\n",
       "      <th>3</th>\n",
       "      <td>d</td>\n",
       "      <td>0.0</td>\n",
       "      <td>0.0</td>\n",
       "      <td>0.0</td>\n",
       "      <td>2540.0</td>\n",
       "      <td>57.14</td>\n",
       "      <td>5.36</td>\n",
       "      <td>17.86</td>\n",
       "      <td>3.57</td>\n",
       "      <td>7.1</td>\n",
       "      <td>17.86</td>\n",
       "      <td>1.22428</td>\n",
       "      <td>0.482</td>\n",
       "      <td>0.143</td>\n",
       "      <td>0.00514</td>\n",
       "    </tr>\n",
       "    <tr>\n",
       "      <th>4</th>\n",
       "      <td>NaN</td>\n",
       "      <td>0.0</td>\n",
       "      <td>0.0</td>\n",
       "      <td>0.0</td>\n",
       "      <td>1552.0</td>\n",
       "      <td>1.43</td>\n",
       "      <td>NaN</td>\n",
       "      <td>77.14</td>\n",
       "      <td>NaN</td>\n",
       "      <td>5.7</td>\n",
       "      <td>8.57</td>\n",
       "      <td>NaN</td>\n",
       "      <td>NaN</td>\n",
       "      <td>NaN</td>\n",
       "      <td>NaN</td>\n",
       "    </tr>\n",
       "  </tbody>\n",
       "</table>\n",
       "</div>"
      ],
      "text/plain": [
       "  nutrition_grade_fr  additives_n  ingredients_from_palm_oil_n  \\\n",
       "0                NaN          NaN                          NaN   \n",
       "1                  d          0.0                          0.0   \n",
       "2                  b          0.0                          0.0   \n",
       "3                  d          0.0                          0.0   \n",
       "4                NaN          0.0                          0.0   \n",
       "\n",
       "   ingredients_that_may_be_from_palm_oil_n  energy_100g  fat_100g  \\\n",
       "0                                      NaN          NaN       NaN   \n",
       "1                                      0.0       2243.0     28.57   \n",
       "2                                      0.0       1941.0     17.86   \n",
       "3                                      0.0       2540.0     57.14   \n",
       "4                                      0.0       1552.0      1.43   \n",
       "\n",
       "   saturated-fat_100g  carbohydrates_100g  sugars_100g  fiber_100g  \\\n",
       "0                 NaN                 NaN          NaN         NaN   \n",
       "1               28.57               64.29        14.29         3.6   \n",
       "2                0.00               60.71        17.86         7.1   \n",
       "3                5.36               17.86         3.57         7.1   \n",
       "4                 NaN               77.14          NaN         5.7   \n",
       "\n",
       "   proteins_100g  salt_100g  sodium_100g  calcium_100g  iron_100g  \n",
       "0            NaN        NaN          NaN           NaN        NaN  \n",
       "1           3.57    0.00000        0.000         0.000    0.00129  \n",
       "2          17.86    0.63500        0.250         0.071    0.00129  \n",
       "3          17.86    1.22428        0.482         0.143    0.00514  \n",
       "4           8.57        NaN          NaN           NaN        NaN  "
      ]
     },
     "execution_count": 5,
     "metadata": {},
     "output_type": "execute_result"
    }
   ],
   "source": [
    "# Le projet consiste à ....\n",
    "list_columns_names_to_keep = ['nutrition_grade_fr', 'additives_n', 'ingredients_from_palm_oil_n', 'ingredients_that_may_be_from_palm_oil_n', 'energy_100g', 'fat_100g', 'saturated-fat_100g', 'carbohydrates_100g', 'sugars_100g', 'fiber_100g', 'proteins_100g', 'salt_100g', 'sodium_100g', 'calcium_100g', 'iron_100g']\n",
    "df_columns_keep = df[list_columns_names_to_keep]\n",
    "df_columns_keep.head()"
   ]
  },
  {
   "cell_type": "markdown",
   "id": "9d0667ce",
   "metadata": {},
   "source": [
    "### Valeurs manquantes"
   ]
  },
  {
   "cell_type": "code",
   "execution_count": 6,
   "id": "ab50f27c",
   "metadata": {},
   "outputs": [
    {
     "name": "stdout",
     "output_type": "stream",
     "text": [
      "nutrition_grade_fr                          99562\n",
      "additives_n                                 71833\n",
      "ingredients_from_palm_oil_n                 71833\n",
      "ingredients_that_may_be_from_palm_oil_n     71833\n",
      "energy_100g                                 59659\n",
      "fat_100g                                    76881\n",
      "saturated-fat_100g                          91218\n",
      "carbohydrates_100g                          77184\n",
      "sugars_100g                                 75801\n",
      "fiber_100g                                 119886\n",
      "proteins_100g                               60850\n",
      "salt_100g                                   65262\n",
      "sodium_100g                                 65309\n",
      "calcium_100g                               179722\n",
      "iron_100g                                  180310\n",
      "dtype: int64\n"
     ]
    },
    {
     "data": {
      "text/plain": [
       "<Axes: >"
      ]
     },
     "execution_count": 6,
     "metadata": {},
     "output_type": "execute_result"
    },
    {
     "data": {
      "image/png": "[encoded data removed]",
      "text/plain": [
       "<Figure size 640x480 with 1 Axes>"
      ]
     },
     "metadata": {},
     "output_type": "display_data"
    }
   ],
   "source": [
    "# Liste des colonnes qui contiennent des valeurs nulles\n",
    "list_columns_with_null_values = []\n",
    "for col in df_columns_keep.columns:\n",
    "    if df_columns_keep[col].isnull().sum() > 0:\n",
    "        list_columns_with_null_values.append(col)\n",
    "\n",
    "# Nous observons le nombre de valeurs nulles par variables        \n",
    "pd.set_option('display.max_rows', None)\n",
    "print(df_columns_keep[list_columns_with_null_values].isnull().sum())\n",
    "df_columns_keep[list_columns_with_null_values].isnull().sum().hist()"
   ]
  },
  {
   "cell_type": "markdown",
   "id": "891de731",
   "metadata": {},
   "source": [
    "### Variables avec valeurs manquantes ( > 50 %)"
   ]
  },
  {
   "cell_type": "code",
   "execution_count": 7,
   "id": "1825df77",
   "metadata": {},
   "outputs": [
    {
     "name": "stdout",
     "output_type": "stream",
     "text": [
      "Variable(s) contenant plus de 50% de valeurs manquantes:\n",
      "['calcium_100g', 'iron_100g']\n"
     ]
    }
   ],
   "source": [
    "# Liste des colonnes qui contiennent plus de 50% de valeurs nulles\n",
    "list_columns_with_too_much_null_values = []\n",
    "\n",
    "for col in list_columns_with_null_values :\n",
    "    if (df_columns_keep[col].isnull().sum() / len(df.index)) * 100 > 50 :\n",
    "        list_columns_with_too_much_null_values.append(col)\n",
    "        #print(col)\n",
    "\n",
    "print(\"Variable(s) contenant plus de 50% de valeurs manquantes:\")\n",
    "print(list_columns_with_too_much_null_values)"
   ]
  },
  {
   "cell_type": "code",
   "execution_count": 8,
   "id": "7ee45268",
   "metadata": {},
   "outputs": [
    {
     "data": {
      "text/plain": [
       "<Axes: >"
      ]
     },
     "execution_count": 8,
     "metadata": {},
     "output_type": "execute_result"
    },
    {
     "data": {
      "image/png": "[encoded data removed]",
      "text/plain": [
       "<Figure size 640x480 with 1 Axes>"
      ]
     },
     "metadata": {},
     "output_type": "display_data"
    }
   ],
   "source": [
    "# Observons-les\n",
    "df_columns_keep['calcium_100g'].hist()\n",
    "df_columns_keep['iron_100g'].hist()"
   ]
  },
  {
   "cell_type": "code",
   "execution_count": 9,
   "id": "3f359f93",
   "metadata": {},
   "outputs": [],
   "source": [
    "#Suppression des variables avec > 50% de valeurs manquantes\n",
    "df_columns_keep = df_columns_keep.drop(columns=['calcium_100g', 'iron_100g'])"
   ]
  },
  {
   "cell_type": "markdown",
   "id": "4f8a6060",
   "metadata": {},
   "source": [
    "## Nettoyage des données"
   ]
  },
  {
   "cell_type": "markdown",
   "id": "f11e1715",
   "metadata": {},
   "source": [
    "### Traitement des valeurs aberrantes"
   ]
  },
  {
   "cell_type": "markdown",
   "id": "67c4c165",
   "metadata": {},
   "source": [
    "#### Dans un premier temps, car certaines valeurs manquantes seront traitées par la moyenne/médiane.\n",
    "#### Il faut donc traiter les valeurs aberrantes au préalable pour ne pas introduire un biais de données."
   ]
  },
  {
   "cell_type": "code",
   "execution_count": 10,
   "id": "c8869f0f",
   "metadata": {},
   "outputs": [
    {
     "data": {
      "text/plain": [
       "array([[<Axes: title={'center': 'additives_n'}>,\n",
       "        <Axes: title={'center': 'ingredients_from_palm_oil_n'}>,\n",
       "        <Axes: title={'center': 'ingredients_that_may_be_from_palm_oil_n'}>],\n",
       "       [<Axes: title={'center': 'energy_100g'}>,\n",
       "        <Axes: title={'center': 'fat_100g'}>,\n",
       "        <Axes: title={'center': 'saturated-fat_100g'}>],\n",
       "       [<Axes: title={'center': 'carbohydrates_100g'}>,\n",
       "        <Axes: title={'center': 'sugars_100g'}>,\n",
       "        <Axes: title={'center': 'fiber_100g'}>],\n",
       "       [<Axes: title={'center': 'proteins_100g'}>,\n",
       "        <Axes: title={'center': 'salt_100g'}>,\n",
       "        <Axes: title={'center': 'sodium_100g'}>]], dtype=object)"
      ]
     },
     "execution_count": 10,
     "metadata": {},
     "output_type": "execute_result"
    },
    {
     "data": {
      "image/png": "[encoded data removed]",
      "text/plain": [
       "<Figure size 640x480 with 12 Axes>"
      ]
     },
     "metadata": {},
     "output_type": "display_data"
    }
   ],
   "source": [
    "df_columns_keep.hist()\n",
    "\n",
    "# TODO: Comment gerer la longueur du label de la variable ?\n",
    "# TODO: Que puis-je faire de plus pour traiter les valeurs aberrantes ?\n",
    "# On note que pour certaines valeurs les données tendent plus vers un axe qu'un autre, elles sont surrepresentées\n",
    "# Je décide de ne pas les traiter par la médiane mais par la moyenne ('sodium_100g', 'proteins_100g', 'salt_100g')"
   ]
  },
  {
   "cell_type": "code",
   "execution_count": 17,
   "id": "46fcae44",
   "metadata": {},
   "outputs": [],
   "source": [
    "# Je crée des listes pour les différentes méthodes de traitement que je vais appliquer\n",
    "columns_to_treat_by_delete = ['nutrition_grade_fr']\n",
    "columns_to_treat_by_mean = ['sodium_100g', 'proteins_100g', 'salt_100g']\n",
    "columns_to_treat_by_median = ['additives_n', 'ingredients_from_palm_oil_n',\n",
    "       'ingredients_that_may_be_from_palm_oil_n', 'energy_100g', 'fat_100g',\n",
    "       'saturated-fat_100g', 'carbohydrates_100g']\n",
    "columns_to_treat_by_iterative_imputer = ['sugars_100g', 'fiber_100g']"
   ]
  },
  {
   "cell_type": "markdown",
   "id": "cb115e6e",
   "metadata": {},
   "source": [
    "### Traitement des valeurs manquantes"
   ]
  },
  {
   "cell_type": "markdown",
   "id": "62a47a87",
   "metadata": {},
   "source": [
    "#### Méthode 1 : Suppression (pour la variable: nutrition_grade_fr)"
   ]
  },
  {
   "cell_type": "code",
   "execution_count": 18,
   "id": "97da03c8",
   "metadata": {},
   "outputs": [
    {
     "data": {
      "text/html": [
       "<div>\n",
       "<style scoped>\n",
       "    .dataframe tbody tr th:only-of-type {\n",
       "        vertical-align: middle;\n",
       "    }\n",
       "\n",
       "    .dataframe tbody tr th {\n",
       "        vertical-align: top;\n",
       "    }\n",
       "\n",
       "    .dataframe thead th {\n",
       "        text-align: right;\n",
       "    }\n",
       "</style>\n",
       "<table border=\"1\" class=\"dataframe\">\n",
       "  <thead>\n",
       "    <tr style=\"text-align: right;\">\n",
       "      <th></th>\n",
       "      <th>nutrition_grade_fr</th>\n",
       "      <th>additives_n</th>\n",
       "      <th>ingredients_from_palm_oil_n</th>\n",
       "      <th>ingredients_that_may_be_from_palm_oil_n</th>\n",
       "      <th>energy_100g</th>\n",
       "      <th>fat_100g</th>\n",
       "      <th>saturated-fat_100g</th>\n",
       "      <th>carbohydrates_100g</th>\n",
       "      <th>sugars_100g</th>\n",
       "      <th>fiber_100g</th>\n",
       "      <th>proteins_100g</th>\n",
       "      <th>salt_100g</th>\n",
       "      <th>sodium_100g</th>\n",
       "    </tr>\n",
       "  </thead>\n",
       "  <tbody>\n",
       "    <tr>\n",
       "      <th>1</th>\n",
       "      <td>d</td>\n",
       "      <td>0.0</td>\n",
       "      <td>0.0</td>\n",
       "      <td>0.0</td>\n",
       "      <td>2243.0</td>\n",
       "      <td>28.57</td>\n",
       "      <td>28.57</td>\n",
       "      <td>64.29</td>\n",
       "      <td>17.86</td>\n",
       "      <td>7.1</td>\n",
       "      <td>3.57</td>\n",
       "      <td>0.00000</td>\n",
       "      <td>0.000</td>\n",
       "    </tr>\n",
       "    <tr>\n",
       "      <th>2</th>\n",
       "      <td>b</td>\n",
       "      <td>0.0</td>\n",
       "      <td>0.0</td>\n",
       "      <td>0.0</td>\n",
       "      <td>1941.0</td>\n",
       "      <td>17.86</td>\n",
       "      <td>0.00</td>\n",
       "      <td>60.71</td>\n",
       "      <td>3.57</td>\n",
       "      <td>7.1</td>\n",
       "      <td>17.86</td>\n",
       "      <td>0.63500</td>\n",
       "      <td>0.250</td>\n",
       "    </tr>\n",
       "    <tr>\n",
       "      <th>3</th>\n",
       "      <td>d</td>\n",
       "      <td>0.0</td>\n",
       "      <td>0.0</td>\n",
       "      <td>0.0</td>\n",
       "      <td>2540.0</td>\n",
       "      <td>57.14</td>\n",
       "      <td>5.36</td>\n",
       "      <td>17.86</td>\n",
       "      <td>15.62</td>\n",
       "      <td>9.4</td>\n",
       "      <td>17.86</td>\n",
       "      <td>1.22428</td>\n",
       "      <td>0.482</td>\n",
       "    </tr>\n",
       "    <tr>\n",
       "      <th>7</th>\n",
       "      <td>c</td>\n",
       "      <td>2.0</td>\n",
       "      <td>0.0</td>\n",
       "      <td>0.0</td>\n",
       "      <td>1833.0</td>\n",
       "      <td>18.75</td>\n",
       "      <td>4.69</td>\n",
       "      <td>57.81</td>\n",
       "      <td>2.38</td>\n",
       "      <td>9.5</td>\n",
       "      <td>14.06</td>\n",
       "      <td>0.13970</td>\n",
       "      <td>0.055</td>\n",
       "    </tr>\n",
       "    <tr>\n",
       "      <th>12</th>\n",
       "      <td>d</td>\n",
       "      <td>1.0</td>\n",
       "      <td>0.0</td>\n",
       "      <td>0.0</td>\n",
       "      <td>2230.0</td>\n",
       "      <td>36.67</td>\n",
       "      <td>5.00</td>\n",
       "      <td>36.67</td>\n",
       "      <td>33.33</td>\n",
       "      <td>4.4</td>\n",
       "      <td>16.67</td>\n",
       "      <td>1.60782</td>\n",
       "      <td>0.633</td>\n",
       "    </tr>\n",
       "  </tbody>\n",
       "</table>\n",
       "</div>"
      ],
      "text/plain": [
       "   nutrition_grade_fr  additives_n  ingredients_from_palm_oil_n  \\\n",
       "1                   d          0.0                          0.0   \n",
       "2                   b          0.0                          0.0   \n",
       "3                   d          0.0                          0.0   \n",
       "7                   c          2.0                          0.0   \n",
       "12                  d          1.0                          0.0   \n",
       "\n",
       "    ingredients_that_may_be_from_palm_oil_n  energy_100g  fat_100g  \\\n",
       "1                                       0.0       2243.0     28.57   \n",
       "2                                       0.0       1941.0     17.86   \n",
       "3                                       0.0       2540.0     57.14   \n",
       "7                                       0.0       1833.0     18.75   \n",
       "12                                      0.0       2230.0     36.67   \n",
       "\n",
       "    saturated-fat_100g  carbohydrates_100g  sugars_100g  fiber_100g  \\\n",
       "1                28.57               64.29        17.86         7.1   \n",
       "2                 0.00               60.71         3.57         7.1   \n",
       "3                 5.36               17.86        15.62         9.4   \n",
       "7                 4.69               57.81         2.38         9.5   \n",
       "12                5.00               36.67        33.33         4.4   \n",
       "\n",
       "    proteins_100g  salt_100g  sodium_100g  \n",
       "1            3.57    0.00000        0.000  \n",
       "2           17.86    0.63500        0.250  \n",
       "3           17.86    1.22428        0.482  \n",
       "7           14.06    0.13970        0.055  \n",
       "12          16.67    1.60782        0.633  "
      ]
     },
     "execution_count": 18,
     "metadata": {},
     "output_type": "execute_result"
    }
   ],
   "source": [
    "# En effet pour la variable pertinente nutrition_grade_fr, qui joue un rôle important, il est préférable de supprimer complètement\n",
    "# les lignes avec cette valeur manquante, car inutilisables\n",
    "\n",
    "df_columns_keep = df_columns_keep[~df_columns_keep['nutrition_grade_fr'].isnull()]\n",
    "df_columns_keep.head()\n",
    "# On a bien que les valeurs remplies (pour nutrition_grade_fr)"
   ]
  },
  {
   "cell_type": "markdown",
   "id": "be16611b",
   "metadata": {},
   "source": [
    "#### Méthode 2 : Par la moyenne\n",
    "Pour les données continuous dont le type est float64"
   ]
  },
  {
   "cell_type": "code",
   "execution_count": 19,
   "id": "2acbd889",
   "metadata": {},
   "outputs": [
    {
     "name": "stdout",
     "output_type": "stream",
     "text": [
      "Il y a désormais : 0 valeurs manquantes pour sodium_100g\n",
      "Il y a désormais : 0 valeurs manquantes pour proteins_100g\n",
      "Il y a désormais : 0 valeurs manquantes pour salt_100g\n"
     ]
    },
    {
     "data": {
      "text/plain": [
       "array([[<Axes: title={'center': 'sodium_100g'}>,\n",
       "        <Axes: title={'center': 'proteins_100g'}>],\n",
       "       [<Axes: title={'center': 'salt_100g'}>, <Axes: >]], dtype=object)"
      ]
     },
     "execution_count": 19,
     "metadata": {},
     "output_type": "execute_result"
    },
    {
     "data": {
      "image/png": "[encoded data removed]",
      "text/plain": [
       "<Figure size 640x480 with 4 Axes>"
      ]
     },
     "metadata": {},
     "output_type": "display_data"
    }
   ],
   "source": [
    "for col in columns_to_treat_by_mean:\n",
    "    if df_columns_keep[col].dtypes == 'float64':\n",
    "        df_columns_keep[col] = df_columns_keep[col].fillna(df_columns_keep[col].mean())\n",
    "        print(\"Il y a désormais : \" + str(df_columns_keep[col].isnull().sum()) + \" valeurs manquantes pour \" +col)\n",
    "df_columns_keep[columns_to_treat_by_mean].hist()"
   ]
  },
  {
   "cell_type": "markdown",
   "id": "48bb43c0",
   "metadata": {},
   "source": [
    "##### Méthode 3 : La valeur médiane"
   ]
  },
  {
   "cell_type": "code",
   "execution_count": 20,
   "id": "c945773a",
   "metadata": {},
   "outputs": [
    {
     "name": "stdout",
     "output_type": "stream",
     "text": [
      "Il y a désormais : 0 valeurs manquantes pour additives_n\n",
      "Il y a désormais : 0 valeurs manquantes pour ingredients_from_palm_oil_n\n",
      "Il y a désormais : 0 valeurs manquantes pour ingredients_that_may_be_from_palm_oil_n\n",
      "Il y a désormais : 0 valeurs manquantes pour energy_100g\n",
      "Il y a désormais : 0 valeurs manquantes pour fat_100g\n",
      "Il y a désormais : 0 valeurs manquantes pour saturated-fat_100g\n",
      "Il y a désormais : 0 valeurs manquantes pour carbohydrates_100g\n"
     ]
    },
    {
     "data": {
      "text/plain": [
       "array([[<Axes: title={'center': 'additives_n'}>,\n",
       "        <Axes: title={'center': 'ingredients_from_palm_oil_n'}>,\n",
       "        <Axes: title={'center': 'ingredients_that_may_be_from_palm_oil_n'}>],\n",
       "       [<Axes: title={'center': 'energy_100g'}>,\n",
       "        <Axes: title={'center': 'fat_100g'}>,\n",
       "        <Axes: title={'center': 'saturated-fat_100g'}>],\n",
       "       [<Axes: title={'center': 'carbohydrates_100g'}>, <Axes: >,\n",
       "        <Axes: >]], dtype=object)"
      ]
     },
     "execution_count": 20,
     "metadata": {},
     "output_type": "execute_result"
    },
    {
     "data": {
      "image/png": "[encoded data removed]",
      "text/plain": [
       "<Figure size 640x480 with 9 Axes>"
      ]
     },
     "metadata": {},
     "output_type": "display_data"
    }
   ],
   "source": [
    "for col in columns_to_treat_by_median:\n",
    "    if df_columns_keep[col].dtypes == 'float64':\n",
    "        df_columns_keep[col] = df_columns_keep[col].fillna(df_columns_keep[col].median())\n",
    "        print(\"Il y a désormais : \" + str(df_columns_keep[col].isnull().sum()) + \" valeurs manquantes pour \" +col)\n",
    "df_columns_keep[columns_to_treat_by_median].hist()"
   ]
  },
  {
   "cell_type": "markdown",
   "id": "2ccd6578",
   "metadata": {},
   "source": [
    "#### Methode 4 : IterativeImputer (facultatif)"
   ]
  },
  {
   "cell_type": "code",
   "execution_count": 21,
   "id": "b10a1ec3",
   "metadata": {},
   "outputs": [
    {
     "name": "stdout",
     "output_type": "stream",
     "text": [
      "Il y a désormais : 0 valeurs manquantes pour sugars_100g\n",
      "Il y a désormais : 0 valeurs manquantes pour fiber_100g\n"
     ]
    },
    {
     "data": {
      "text/plain": [
       "array([[<Axes: title={'center': 'sugars_100g'}>,\n",
       "        <Axes: title={'center': 'fiber_100g'}>]], dtype=object)"
      ]
     },
     "execution_count": 21,
     "metadata": {},
     "output_type": "execute_result"
    },
    {
     "data": {
      "image/png": "[encoded data removed]",
      "text/plain": [
       "<Figure size 640x480 with 2 Axes>"
      ]
     },
     "metadata": {},
     "output_type": "display_data"
    }
   ],
   "source": [
    "datas_to_treat_by_iterative_imputer = df_columns_keep[columns_to_treat_by_iterative_imputer]\n",
    "\n",
    "# création d'un itérateur de remplissage\n",
    "imputer = IterativeImputer(max_iter=10, random_state=0)\n",
    "\n",
    "# remplissage des valeurs manquantes\n",
    "datas_treated_by_iterative_imputer = pd.DataFrame(imputer.fit_transform(datas_to_treat_by_iterative_imputer), columns=columns_to_treat_by_iterative_inputer)\n",
    "\n",
    "# remplacement des valeurs manquantes dans le dataset original\n",
    "df_columns_keep[columns_to_treat_by_iterative_inputer] = datas_treated_by_iterative_imputer\n",
    "\n",
    "for col in columns_to_treat_by_iterative_imputer:\n",
    "    if df_columns_keep[col].dtypes == 'float64':\n",
    "        df_columns_keep[col] = df_columns_keep[col].fillna(df_columns_keep[col].median())\n",
    "        print(\"Il y a désormais : \" + str(df_columns_keep[col].isnull().sum()) + \" valeurs manquantes pour \" +col)\n",
    "df_columns_keep[columns_to_treat_by_iterative_imputer].hist()"
   ]
  },
  {
   "cell_type": "markdown",
   "id": "12c338bc",
   "metadata": {},
   "source": [
    "## Doublons"
   ]
  },
  {
   "cell_type": "code",
   "execution_count": null,
   "id": "4a5054b7",
   "metadata": {},
   "outputs": [],
   "source": [
    "df_columns_keep = df_columns_keep.drop_duplicates(keep=False)\n",
    "display(df_columns_keep.drop_duplicates(keep=False))\n",
    "#print(len(df_columns_keep[col].dropna())-len(df_columns_keep[col].dropna().drop_duplicates()))\n",
    "        \n",
    "# Nous observons les doublons"
   ]
  },
  {
   "cell_type": "markdown",
   "id": "4c3ed194",
   "metadata": {},
   "source": [
    "### Traiter les doublons (en supprimant)"
   ]
  },
  {
   "cell_type": "markdown",
   "id": "6e952ed8",
   "metadata": {},
   "source": [
    "### Valeurs aberrantes\n",
    "Faire une analyse exploratoire, regarder le jeu de données"
   ]
  },
  {
   "cell_type": "code",
   "execution_count": null,
   "id": "af4e4f7f",
   "metadata": {},
   "outputs": [],
   "source": [
    "df_nutrition_full.head()"
   ]
  },
  {
   "cell_type": "code",
   "execution_count": null,
   "id": "52dc1ccc",
   "metadata": {},
   "outputs": [],
   "source": [
    "#data.loc[(data['Age'] > 73), 'Age']\n",
    "#data.loc[(data['Sexe'].isin(['M', 'F'])), 'Sexe']"
   ]
  },
  {
   "cell_type": "code",
   "execution_count": null,
   "id": "f1070002",
   "metadata": {},
   "outputs": [],
   "source": [
    "df_nutrition_full.describe()\n",
    "# TODO : décrire le résultat (valeurs max, valeurs manquantes, ....)"
   ]
  },
  {
   "cell_type": "code",
   "execution_count": null,
   "id": "4c5af3a2",
   "metadata": {},
   "outputs": [],
   "source": [
    "# Observons les valeurs aberrantes\n",
    "# On observe la distribution de manière gnérale\n",
    "# On s'attend à des valeurs entre 0 et 100\n",
    "df_nutrition_full['fat_100g'].hist()"
   ]
  },
  {
   "cell_type": "code",
   "execution_count": null,
   "id": "5f86c618",
   "metadata": {},
   "outputs": [],
   "source": [
    "#TODO:\n",
    "# Observer les variables\n",
    "\n",
    "df_nutrition_full_clean = df_nutrition_full[df_nutrition_full['fat_100g'] < 100]\n",
    "df_nutrition_full_clean.shape #shape = renvoie la taille du df rows / cols\n",
    "# Rien n'a été filtré car tout est déjà bon"
   ]
  },
  {
   "cell_type": "code",
   "execution_count": null,
   "id": "ae50b955",
   "metadata": {},
   "outputs": [],
   "source": []
  }
 ],
 "metadata": {
  "kernelspec": {
   "display_name": "Python 3 (ipykernel)",
   "language": "python",
   "name": "python3"
  },
  "language_info": {
   "codemirror_mode": {
    "name": "ipython",
    "version": 3
   },
   "file_extension": ".py",
   "mimetype": "text/x-python",
   "name": "python",
   "nbconvert_exporter": "python",
   "pygments_lexer": "ipython3",
   "version": "3.11.5"
  }
 },
 "nbformat": 4,
 "nbformat_minor": 5
}
